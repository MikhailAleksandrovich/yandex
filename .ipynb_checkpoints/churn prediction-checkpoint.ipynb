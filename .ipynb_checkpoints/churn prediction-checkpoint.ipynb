{
 "cells": [
  {
   "cell_type": "markdown",
   "metadata": {
    "toc": true
   },
   "source": [
    "<h1>Содержание<span class=\"tocSkip\"></span></h1>\n",
    "<div class=\"toc\"><ul class=\"toc-item\"><li><span><a href=\"#Подготовка-данных\" data-toc-modified-id=\"Подготовка-данных-1\"><span class=\"toc-item-num\">1&nbsp;&nbsp;</span>Подготовка данных</a></span></li><li><span><a href=\"#Исследование-задачи\" data-toc-modified-id=\"Исследование-задачи-2\"><span class=\"toc-item-num\">2&nbsp;&nbsp;</span>Исследование задачи</a></span></li><li><span><a href=\"#Борьба-с-дисбалансом\" data-toc-modified-id=\"Борьба-с-дисбалансом-3\"><span class=\"toc-item-num\">3&nbsp;&nbsp;</span>Борьба с дисбалансом</a></span></li><li><span><a href=\"#Тестирование-модели\" data-toc-modified-id=\"Тестирование-модели-4\"><span class=\"toc-item-num\">4&nbsp;&nbsp;</span>Тестирование модели</a></span></li></ul></div>"
   ]
  },
  {
   "cell_type": "markdown",
   "metadata": {},
   "source": [
    "# Отток клиентов"
   ]
  },
  {
   "cell_type": "markdown",
   "metadata": {},
   "source": [
    "Из «Бета-Банка» стали уходить клиенты. Каждый месяц. Немного, но заметно. Банковские маркетологи посчитали: сохранять текущих клиентов дешевле, чем привлекать новых.\n",
    "\n",
    "Нужно спрогнозировать, уйдёт клиент из банка в ближайшее время или нет. Вам предоставлены исторические данные о поведении клиентов и расторжении договоров с банком. \n",
    "\n",
    "Постройте модель с предельно большим значением *F1*-меры. Чтобы сдать проект успешно, нужно довести метрику до 0.59. Проверьте *F1*-меру на тестовой выборке самостоятельно.\n",
    "\n",
    "Дополнительно измеряйте *AUC-ROC*, сравнивайте её значение с *F1*-мерой.\n",
    "\n",
    "Источник данных: [https://www.kaggle.com/barelydedicated/bank-customer-churn-modeling](https://www.kaggle.com/barelydedicated/bank-customer-churn-modeling)"
   ]
  },
  {
   "cell_type": "markdown",
   "metadata": {},
   "source": [
    "## Подготовка данных"
   ]
  },
  {
   "cell_type": "markdown",
   "metadata": {},
   "source": [
    "Импорт всех необходимых библиотек"
   ]
  },
  {
   "cell_type": "code",
   "execution_count": 21,
   "metadata": {},
   "outputs": [],
   "source": [
    "import pandas as pd\n",
    "import numpy as np\n",
    "import matplotlib.pyplot as plt\n",
    "import seaborn as sns\n",
    "import itertools\n",
    "from sklearn.linear_model import LogisticRegression, RidgeClassifier\n",
    "from sklearn.ensemble import RandomForestClassifier\n",
    "from sklearn.model_selection import train_test_split, KFold, cross_val_score, ShuffleSplit\n",
    "from sklearn.preprocessing import StandardScaler\n",
    "from sklearn.impute import SimpleImputer\n",
    "from sklearn.metrics import accuracy_score, confusion_matrix, f1_score, roc_curve, roc_auc_score\n",
    "from sklearn.utils import shuffle\n",
    "import warnings\n",
    "warnings.filterwarnings('ignore')"
   ]
  },
  {
   "cell_type": "markdown",
   "metadata": {},
   "source": [
    "Ознакомимся с датасетом"
   ]
  },
  {
   "cell_type": "code",
   "execution_count": 2,
   "metadata": {},
   "outputs": [
    {
     "data": {
      "text/html": [
       "<div>\n",
       "<style scoped>\n",
       "    .dataframe tbody tr th:only-of-type {\n",
       "        vertical-align: middle;\n",
       "    }\n",
       "\n",
       "    .dataframe tbody tr th {\n",
       "        vertical-align: top;\n",
       "    }\n",
       "\n",
       "    .dataframe thead th {\n",
       "        text-align: right;\n",
       "    }\n",
       "</style>\n",
       "<table border=\"1\" class=\"dataframe\">\n",
       "  <thead>\n",
       "    <tr style=\"text-align: right;\">\n",
       "      <th></th>\n",
       "      <th>RowNumber</th>\n",
       "      <th>CustomerId</th>\n",
       "      <th>Surname</th>\n",
       "      <th>CreditScore</th>\n",
       "      <th>Geography</th>\n",
       "      <th>Gender</th>\n",
       "      <th>Age</th>\n",
       "      <th>Tenure</th>\n",
       "      <th>Balance</th>\n",
       "      <th>NumOfProducts</th>\n",
       "      <th>HasCrCard</th>\n",
       "      <th>IsActiveMember</th>\n",
       "      <th>EstimatedSalary</th>\n",
       "      <th>Exited</th>\n",
       "    </tr>\n",
       "  </thead>\n",
       "  <tbody>\n",
       "    <tr>\n",
       "      <th>0</th>\n",
       "      <td>1</td>\n",
       "      <td>15634602</td>\n",
       "      <td>Hargrave</td>\n",
       "      <td>619</td>\n",
       "      <td>France</td>\n",
       "      <td>Female</td>\n",
       "      <td>42</td>\n",
       "      <td>2.0</td>\n",
       "      <td>0.00</td>\n",
       "      <td>1</td>\n",
       "      <td>1</td>\n",
       "      <td>1</td>\n",
       "      <td>101348.88</td>\n",
       "      <td>1</td>\n",
       "    </tr>\n",
       "    <tr>\n",
       "      <th>1</th>\n",
       "      <td>2</td>\n",
       "      <td>15647311</td>\n",
       "      <td>Hill</td>\n",
       "      <td>608</td>\n",
       "      <td>Spain</td>\n",
       "      <td>Female</td>\n",
       "      <td>41</td>\n",
       "      <td>1.0</td>\n",
       "      <td>83807.86</td>\n",
       "      <td>1</td>\n",
       "      <td>0</td>\n",
       "      <td>1</td>\n",
       "      <td>112542.58</td>\n",
       "      <td>0</td>\n",
       "    </tr>\n",
       "    <tr>\n",
       "      <th>2</th>\n",
       "      <td>3</td>\n",
       "      <td>15619304</td>\n",
       "      <td>Onio</td>\n",
       "      <td>502</td>\n",
       "      <td>France</td>\n",
       "      <td>Female</td>\n",
       "      <td>42</td>\n",
       "      <td>8.0</td>\n",
       "      <td>159660.80</td>\n",
       "      <td>3</td>\n",
       "      <td>1</td>\n",
       "      <td>0</td>\n",
       "      <td>113931.57</td>\n",
       "      <td>1</td>\n",
       "    </tr>\n",
       "    <tr>\n",
       "      <th>3</th>\n",
       "      <td>4</td>\n",
       "      <td>15701354</td>\n",
       "      <td>Boni</td>\n",
       "      <td>699</td>\n",
       "      <td>France</td>\n",
       "      <td>Female</td>\n",
       "      <td>39</td>\n",
       "      <td>1.0</td>\n",
       "      <td>0.00</td>\n",
       "      <td>2</td>\n",
       "      <td>0</td>\n",
       "      <td>0</td>\n",
       "      <td>93826.63</td>\n",
       "      <td>0</td>\n",
       "    </tr>\n",
       "    <tr>\n",
       "      <th>4</th>\n",
       "      <td>5</td>\n",
       "      <td>15737888</td>\n",
       "      <td>Mitchell</td>\n",
       "      <td>850</td>\n",
       "      <td>Spain</td>\n",
       "      <td>Female</td>\n",
       "      <td>43</td>\n",
       "      <td>2.0</td>\n",
       "      <td>125510.82</td>\n",
       "      <td>1</td>\n",
       "      <td>1</td>\n",
       "      <td>1</td>\n",
       "      <td>79084.10</td>\n",
       "      <td>0</td>\n",
       "    </tr>\n",
       "  </tbody>\n",
       "</table>\n",
       "</div>"
      ],
      "text/plain": [
       "   RowNumber  CustomerId   Surname  CreditScore Geography  Gender  Age  \\\n",
       "0          1    15634602  Hargrave          619    France  Female   42   \n",
       "1          2    15647311      Hill          608     Spain  Female   41   \n",
       "2          3    15619304      Onio          502    France  Female   42   \n",
       "3          4    15701354      Boni          699    France  Female   39   \n",
       "4          5    15737888  Mitchell          850     Spain  Female   43   \n",
       "\n",
       "   Tenure    Balance  NumOfProducts  HasCrCard  IsActiveMember  \\\n",
       "0     2.0       0.00              1          1               1   \n",
       "1     1.0   83807.86              1          0               1   \n",
       "2     8.0  159660.80              3          1               0   \n",
       "3     1.0       0.00              2          0               0   \n",
       "4     2.0  125510.82              1          1               1   \n",
       "\n",
       "   EstimatedSalary  Exited  \n",
       "0        101348.88       1  \n",
       "1        112542.58       0  \n",
       "2        113931.57       1  \n",
       "3         93826.63       0  \n",
       "4         79084.10       0  "
      ]
     },
     "execution_count": 2,
     "metadata": {},
     "output_type": "execute_result"
    }
   ],
   "source": [
    "df = pd.read_csv('./Churn.csv')\n",
    "df.head()\n"
   ]
  },
  {
   "cell_type": "markdown",
   "metadata": {},
   "source": [
    "Уберем ненужные для построения моделей столбцы"
   ]
  },
  {
   "cell_type": "code",
   "execution_count": 3,
   "metadata": {},
   "outputs": [],
   "source": [
    "df.drop(columns=['Surname','RowNumber','CustomerId'],inplace=True)"
   ]
  },
  {
   "cell_type": "code",
   "execution_count": 4,
   "metadata": {},
   "outputs": [
    {
     "data": {
      "text/plain": [
       "0"
      ]
     },
     "execution_count": 4,
     "metadata": {},
     "output_type": "execute_result"
    }
   ],
   "source": [
    "df.isna().sum()\n",
    "df.duplicated().sum()"
   ]
  },
  {
   "cell_type": "code",
   "execution_count": 5,
   "metadata": {},
   "outputs": [],
   "source": [
    "df['Tenure'] = df['Tenure'].fillna(0)"
   ]
  },
  {
   "cell_type": "code",
   "execution_count": 6,
   "metadata": {},
   "outputs": [
    {
     "data": {
      "text/html": [
       "<div>\n",
       "<style scoped>\n",
       "    .dataframe tbody tr th:only-of-type {\n",
       "        vertical-align: middle;\n",
       "    }\n",
       "\n",
       "    .dataframe tbody tr th {\n",
       "        vertical-align: top;\n",
       "    }\n",
       "\n",
       "    .dataframe thead th {\n",
       "        text-align: right;\n",
       "    }\n",
       "</style>\n",
       "<table border=\"1\" class=\"dataframe\">\n",
       "  <thead>\n",
       "    <tr style=\"text-align: right;\">\n",
       "      <th></th>\n",
       "      <th>creditscore</th>\n",
       "      <th>geography</th>\n",
       "      <th>gender</th>\n",
       "      <th>age</th>\n",
       "      <th>tenure</th>\n",
       "      <th>balance</th>\n",
       "      <th>numofproducts</th>\n",
       "      <th>hascrcard</th>\n",
       "      <th>isactivemember</th>\n",
       "      <th>estimatedsalary</th>\n",
       "      <th>exited</th>\n",
       "    </tr>\n",
       "  </thead>\n",
       "  <tbody>\n",
       "    <tr>\n",
       "      <th>0</th>\n",
       "      <td>619</td>\n",
       "      <td>France</td>\n",
       "      <td>Female</td>\n",
       "      <td>42</td>\n",
       "      <td>2.0</td>\n",
       "      <td>0.00</td>\n",
       "      <td>1</td>\n",
       "      <td>1</td>\n",
       "      <td>1</td>\n",
       "      <td>101348.88</td>\n",
       "      <td>1</td>\n",
       "    </tr>\n",
       "    <tr>\n",
       "      <th>1</th>\n",
       "      <td>608</td>\n",
       "      <td>Spain</td>\n",
       "      <td>Female</td>\n",
       "      <td>41</td>\n",
       "      <td>1.0</td>\n",
       "      <td>83807.86</td>\n",
       "      <td>1</td>\n",
       "      <td>0</td>\n",
       "      <td>1</td>\n",
       "      <td>112542.58</td>\n",
       "      <td>0</td>\n",
       "    </tr>\n",
       "    <tr>\n",
       "      <th>2</th>\n",
       "      <td>502</td>\n",
       "      <td>France</td>\n",
       "      <td>Female</td>\n",
       "      <td>42</td>\n",
       "      <td>8.0</td>\n",
       "      <td>159660.80</td>\n",
       "      <td>3</td>\n",
       "      <td>1</td>\n",
       "      <td>0</td>\n",
       "      <td>113931.57</td>\n",
       "      <td>1</td>\n",
       "    </tr>\n",
       "    <tr>\n",
       "      <th>3</th>\n",
       "      <td>699</td>\n",
       "      <td>France</td>\n",
       "      <td>Female</td>\n",
       "      <td>39</td>\n",
       "      <td>1.0</td>\n",
       "      <td>0.00</td>\n",
       "      <td>2</td>\n",
       "      <td>0</td>\n",
       "      <td>0</td>\n",
       "      <td>93826.63</td>\n",
       "      <td>0</td>\n",
       "    </tr>\n",
       "    <tr>\n",
       "      <th>4</th>\n",
       "      <td>850</td>\n",
       "      <td>Spain</td>\n",
       "      <td>Female</td>\n",
       "      <td>43</td>\n",
       "      <td>2.0</td>\n",
       "      <td>125510.82</td>\n",
       "      <td>1</td>\n",
       "      <td>1</td>\n",
       "      <td>1</td>\n",
       "      <td>79084.10</td>\n",
       "      <td>0</td>\n",
       "    </tr>\n",
       "  </tbody>\n",
       "</table>\n",
       "</div>"
      ],
      "text/plain": [
       "   creditscore geography  gender  age  tenure    balance  numofproducts  \\\n",
       "0          619    France  Female   42     2.0       0.00              1   \n",
       "1          608     Spain  Female   41     1.0   83807.86              1   \n",
       "2          502    France  Female   42     8.0  159660.80              3   \n",
       "3          699    France  Female   39     1.0       0.00              2   \n",
       "4          850     Spain  Female   43     2.0  125510.82              1   \n",
       "\n",
       "   hascrcard  isactivemember  estimatedsalary  exited  \n",
       "0          1               1        101348.88       1  \n",
       "1          0               1        112542.58       0  \n",
       "2          1               0        113931.57       1  \n",
       "3          0               0         93826.63       0  \n",
       "4          1               1         79084.10       0  "
      ]
     },
     "execution_count": 6,
     "metadata": {},
     "output_type": "execute_result"
    }
   ],
   "source": [
    "df.columns = df.columns.str.lower()\n",
    "df.head()"
   ]
  },
  {
   "cell_type": "code",
   "execution_count": 7,
   "metadata": {},
   "outputs": [
    {
     "data": {
      "text/plain": [
       "creditscore          int64\n",
       "geography           object\n",
       "gender              object\n",
       "age                  int64\n",
       "tenure             float64\n",
       "balance            float64\n",
       "numofproducts        int64\n",
       "hascrcard            int64\n",
       "isactivemember       int64\n",
       "estimatedsalary    float64\n",
       "exited               int64\n",
       "dtype: object"
      ]
     },
     "execution_count": 7,
     "metadata": {},
     "output_type": "execute_result"
    }
   ],
   "source": [
    "df.dtypes"
   ]
  },
  {
   "cell_type": "markdown",
   "metadata": {},
   "source": [
    "Разделим Датасет на обучающую, валидационную и тестувую выборки"
   ]
  },
  {
   "cell_type": "code",
   "execution_count": 8,
   "metadata": {},
   "outputs": [
    {
     "name": "stdout",
     "output_type": "stream",
     "text": [
      "Train set size: 6000\n",
      "Valid set size: 2000\n",
      "Test set size: 2000\n"
     ]
    }
   ],
   "source": [
    "X = df.drop(['exited'], axis=1)\n",
    "y = df['exited']\n",
    "\n",
    "X_train, X_valid, y_train, y_valid = train_test_split(X, y, train_size=0.6, test_size=0.4, random_state=12345)\n",
    "X_test, X_valid, y_test, y_valid = train_test_split(X_valid, y_valid, test_size=0.5, random_state=12345)\n",
    "\n",
    "print('Train set size:', X_train.shape[0])\n",
    "print('Valid set size:', X_valid.shape[0])\n",
    "print('Test set size:',X_test.shape[0])"
   ]
  },
  {
   "cell_type": "code",
   "execution_count": null,
   "metadata": {},
   "outputs": [],
   "source": []
  },
  {
   "cell_type": "markdown",
   "metadata": {},
   "source": [
    "Проведем кодирование с помощью OHE"
   ]
  },
  {
   "cell_type": "code",
   "execution_count": 9,
   "metadata": {},
   "outputs": [
    {
     "data": {
      "text/plain": [
       "(6000, 11)"
      ]
     },
     "execution_count": 9,
     "metadata": {},
     "output_type": "execute_result"
    }
   ],
   "source": [
    "X_train = pd.get_dummies(X_train,drop_first=True)\n",
    "X_train.shape"
   ]
  },
  {
   "cell_type": "code",
   "execution_count": 10,
   "metadata": {},
   "outputs": [
    {
     "data": {
      "text/plain": [
       "(2000, 11)"
      ]
     },
     "execution_count": 10,
     "metadata": {},
     "output_type": "execute_result"
    }
   ],
   "source": [
    "X_valid = pd.get_dummies(X_valid,drop_first=True)\n",
    "X_valid.shape"
   ]
  },
  {
   "cell_type": "code",
   "execution_count": 11,
   "metadata": {},
   "outputs": [
    {
     "data": {
      "text/plain": [
       "(2000, 11)"
      ]
     },
     "execution_count": 11,
     "metadata": {},
     "output_type": "execute_result"
    }
   ],
   "source": [
    "X_test = pd.get_dummies(X_test,drop_first=True)\n",
    "X_test.shape"
   ]
  },
  {
   "cell_type": "markdown",
   "metadata": {},
   "source": [
    "Стандартизируем признаки с помощью StandardScaler"
   ]
  },
  {
   "cell_type": "code",
   "execution_count": 12,
   "metadata": {},
   "outputs": [],
   "source": [
    "numeric = ['creditscore', 'age', 'balance', 'estimatedsalary']\n",
    "scaler = StandardScaler()\n",
    "scaler.fit(X_train[numeric])\n",
    "X_train[numeric] = scaler.transform(X_train[numeric])\n",
    "\n",
    "scaler2 = StandardScaler()\n",
    "scaler2.fit(X_valid[numeric])\n",
    "X_valid[numeric] = scaler.transform(X_valid[numeric])\n",
    "\n",
    "scaler3 = StandardScaler()\n",
    "scaler3.fit(X_test[numeric])\n",
    "X_test[numeric] = scaler3.transform(X_test[numeric])"
   ]
  },
  {
   "cell_type": "markdown",
   "metadata": {},
   "source": [
    "Выводы:"
   ]
  },
  {
   "cell_type": "markdown",
   "metadata": {},
   "source": [
    "1)Изучили и подготовили наш датасет\n"
   ]
  },
  {
   "cell_type": "markdown",
   "metadata": {},
   "source": [
    "2)Заполнили пропуски в столбце Tenure\n"
   ]
  },
  {
   "cell_type": "markdown",
   "metadata": {},
   "source": [
    "3)Дубликатов не выявлено\n"
   ]
  },
  {
   "cell_type": "markdown",
   "metadata": {},
   "source": [
    "4)Провели кодирование OHE и стандартизировали признаки с помощью StandardScaler\n"
   ]
  },
  {
   "cell_type": "markdown",
   "metadata": {},
   "source": [
    "5)Разделили наш датасет на выборки - обучающую, валидационную и тестовую"
   ]
  },
  {
   "cell_type": "markdown",
   "metadata": {},
   "source": [
    "## Исследование задачи"
   ]
  },
  {
   "cell_type": "markdown",
   "metadata": {},
   "source": [
    "Протестируем модель RandomForestClassifier со стандартными параметрами, \n",
    "посмотрим какой Accuracy и f1score покажет нам модель"
   ]
  },
  {
   "cell_type": "code",
   "execution_count": 13,
   "metadata": {},
   "outputs": [
    {
     "name": "stdout",
     "output_type": "stream",
     "text": [
      "Accuracy is: 0.845\n",
      "F1_Score is: 0.5303030303030303\n"
     ]
    },
    {
     "data": {
      "text/plain": [
       "array([[1515,   62],\n",
       "       [ 248,  175]], dtype=int64)"
      ]
     },
     "execution_count": 13,
     "metadata": {},
     "output_type": "execute_result"
    }
   ],
   "source": [
    "model = RandomForestClassifier(random_state=12345)\n",
    "model.fit(X_train, y_train)\n",
    "predicted_valid = model.predict(X_valid)\n",
    "accuracy_valid = accuracy_score(predicted_valid, y_valid)\n",
    "print('Accuracy is:', accuracy_valid)\n",
    "print('F1_Score is:', f1_score(y_valid, predicted_valid))\n",
    "confusion_matrix(y_valid, predicted_valid)"
   ]
  },
  {
   "cell_type": "markdown",
   "metadata": {},
   "source": [
    "Протестируем модель LogisticRegression со стандартными параметрами, \n",
    "посмотрим какой Accuracy и f1score покажет нам модель"
   ]
  },
  {
   "cell_type": "code",
   "execution_count": 14,
   "metadata": {},
   "outputs": [
    {
     "name": "stdout",
     "output_type": "stream",
     "text": [
      "Accuracy is: 0.791\n",
      "F1_Score is: 0.2743055555555555\n"
     ]
    },
    {
     "data": {
      "text/plain": [
       "array([[1503,   74],\n",
       "       [ 344,   79]], dtype=int64)"
      ]
     },
     "execution_count": 14,
     "metadata": {},
     "output_type": "execute_result"
    }
   ],
   "source": [
    "model = LogisticRegression(random_state=12345, solver='liblinear')\n",
    "model.fit(X_train, y_train)\n",
    "predicted_valid = model.predict(X_valid)\n",
    "accuracy_valid = accuracy_score(predicted_valid, y_valid)\n",
    "print('Accuracy is:', accuracy_valid)\n",
    "print('F1_Score is:', f1_score(y_valid, predicted_valid))\n",
    "\n",
    "confusion_matrix(y_valid, predicted_valid)"
   ]
  },
  {
   "cell_type": "markdown",
   "metadata": {},
   "source": [
    "Вывод: Модель Случайный лес показывает наилучшие результаты, попробуем ее улучшить "
   ]
  },
  {
   "cell_type": "markdown",
   "metadata": {},
   "source": [
    "## Борьба с дисбалансом"
   ]
  },
  {
   "cell_type": "markdown",
   "metadata": {},
   "source": [
    "Попробуем через цикл подобрать более лучшие параметры случайного леса применив class_weight='balanced'"
   ]
  },
  {
   "cell_type": "code",
   "execution_count": 15,
   "metadata": {},
   "outputs": [
    {
     "name": "stdout",
     "output_type": "stream",
     "text": [
      "Depth:     1       |   Estimators:     1\n",
      "Accuracy: 0.8095   |   F1_Score: 0.2177\n",
      "Depth:     1       |   Estimators:    51\n",
      "Accuracy: 0.7355   |   F1_Score: 0.5187\n",
      "Depth:     1       |   Estimators:   101\n",
      "Accuracy: 0.7385   |   F1_Score: 0.5232\n",
      "Depth:    11       |   Estimators:     1\n",
      "Accuracy: 0.7450   |   F1_Score: 0.4980\n",
      "Depth:    11       |   Estimators:    51\n",
      "Accuracy: 0.8430   |   F1_Score: 0.6035\n",
      "Depth:    11       |   Estimators:   101\n",
      "Accuracy: 0.8440   |   F1_Score: 0.6000\n",
      "Depth:    21       |   Estimators:     1\n",
      "Accuracy: 0.7715   |   F1_Score: 0.4801\n",
      "Depth:    21       |   Estimators:    51\n",
      "Accuracy: 0.8450   |   F1_Score: 0.5231\n",
      "Depth:    21       |   Estimators:   101\n",
      "Accuracy: 0.8445   |   F1_Score: 0.5163\n"
     ]
    }
   ],
   "source": [
    "for depth,estimator in itertools.product(range(1,30,10), range(1,151,50)):\n",
    "    model = RandomForestClassifier(random_state=12345, max_depth=depth, n_estimators=estimator, class_weight='balanced')\n",
    "    model.fit(X_train, y_train)\n",
    "    predictions = model.predict(X_valid)\n",
    "    score = accuracy_score(predictions, y_valid)\n",
    "    fscore = f1_score(y_valid, predictions)\n",
    "    print('Depth: {: >5.0f}       |   Estimators: {:>5.0f}'.format(depth, estimator))\n",
    "    print('Accuracy: {: >5.4f}   |   F1_Score: {: >5.4f}'.format(score,fscore))\n",
    "    "
   ]
  },
  {
   "cell_type": "markdown",
   "metadata": {},
   "source": [
    "При глубине деревьев 11 и числе деревьев 51. F1_score показал наилучший результат : 0.6076 и accuracy_score : 0.8450. Попробуем улучшить показатели"
   ]
  },
  {
   "cell_type": "code",
   "execution_count": 16,
   "metadata": {},
   "outputs": [
    {
     "name": "stdout",
     "output_type": "stream",
     "text": [
      "F1_Score: 0.541  |   Repeats :     1\n",
      "F1_Score: 0.585  |   Repeats :     2\n",
      "F1_Score: 0.574  |   Repeats :     3\n",
      "F1_Score: 0.579  |   Repeats :     4\n",
      "F1_Score: 0.587  |   Repeats :     5\n",
      "F1_Score: 0.586  |   Repeats :     6\n",
      "F1_Score: 0.588  |   Repeats :     7\n",
      "F1_Score: 0.601  |   Repeats :     8\n",
      "F1_Score: 0.582  |   Repeats :     9\n"
     ]
    }
   ],
   "source": [
    "#Попробуем обучить нашу модель с помощью увеличения выборки\n",
    "\n",
    "def upsampling(features, target, repeat):\n",
    "    X_zeros = X_train[y_train == 0]\n",
    "    X_ones = X_train[y_train == 1]\n",
    "    y_zeros = y_train[y_train == 0]\n",
    "    y_ones = y_train[y_train == 1]\n",
    "\n",
    "    X_upsampled = pd.concat([X_zeros] + [X_ones] * repeat)\n",
    "    y_upsampled = pd.concat([y_zeros] + [y_ones] * repeat)\n",
    "    \n",
    "    X_upsampled, y_upsampled = shuffle(X_upsampled, y_upsampled, random_state=12345)\n",
    "    \n",
    "    return X_upsampled, y_upsampled\n",
    "\n",
    "\n",
    "for repeat in range(1,10,1):\n",
    "    X_upsampled, y_upsampled = upsampling(X_train, y_train, repeat)\n",
    "\n",
    "    model = RandomForestClassifier(random_state=12345)\n",
    "    model.fit(X_upsampled, y_upsampled)\n",
    "    predictions = model.predict(X_valid)\n",
    "    print(\"F1_Score: {: >5.3f}  |   Repeats : {: >5.0f}\".format(f1_score(y_valid, predictions),repeat))"
   ]
  },
  {
   "cell_type": "code",
   "execution_count": 17,
   "metadata": {},
   "outputs": [
    {
     "name": "stdout",
     "output_type": "stream",
     "text": [
      "F1_Score: 0.370  |  Fractions : 0.030\n",
      "F1_Score: 0.424  |  Fractions : 0.060\n",
      "F1_Score: 0.479  |  Fractions : 0.090\n",
      "F1_Score: 0.511  |  Fractions : 0.120\n",
      "F1_Score: 0.540  |  Fractions : 0.150\n",
      "F1_Score: 0.550  |  Fractions : 0.180\n",
      "F1_Score: 0.562  |  Fractions : 0.210\n",
      "F1_Score: 0.573  |  Fractions : 0.240\n",
      "F1_Score: 0.588  |  Fractions : 0.270\n",
      "F1_Score: 0.588  |  Fractions : 0.300\n"
     ]
    }
   ],
   "source": [
    "#Попробуем обучить нашу модель с помощью уменьшения выборки\n",
    "\n",
    "def downsampling(X, y, fraction):\n",
    "    X_zeros = X[y == 0]\n",
    "    X_ones = X[y == 1]\n",
    "    y_zeros = y[y == 0]\n",
    "    y_ones = y[y == 1]\n",
    "\n",
    "    X_downsampled = pd.concat(\n",
    "        [X_zeros.sample(frac=fraction, random_state=12345)] + [X_ones])\n",
    "    y_downsampled = pd.concat(\n",
    "        [y_zeros.sample(frac=fraction, random_state=12345)] + [y_ones])\n",
    "    \n",
    "    X_downsampled, y_downsampled = shuffle(\n",
    "        X_downsampled, y_downsampled, random_state=12345)\n",
    "    \n",
    "    return X_downsampled, y_downsampled\n",
    "\n",
    "for i in np.arange(0.03, 0.31, 0.03):\n",
    "    X_downsampled, y_downsampled = downsampling(X_train, y_train, i)\n",
    "    model = RandomForestClassifier(random_state=12345)\n",
    "    model.fit(X_downsampled, y_downsampled)\n",
    "    predictions = model.predict(X_valid)\n",
    "    print(\"F1_Score: {: >5.3f}  |  Fractions : {: >5.3f}\".format(f1_score(y_valid, predictions), i))"
   ]
  },
  {
   "cell_type": "markdown",
   "metadata": {},
   "source": [
    "## Тестирование модели"
   ]
  },
  {
   "cell_type": "markdown",
   "metadata": {},
   "source": [
    "Протестируем нашу модель на тестовой выборке с соответствующими параметрами"
   ]
  },
  {
   "cell_type": "code",
   "execution_count": 18,
   "metadata": {},
   "outputs": [
    {
     "name": "stdout",
     "output_type": "stream",
     "text": [
      "Accuracy: 0.845\n",
      "F1_Score: 0.6075949367088607\n"
     ]
    }
   ],
   "source": [
    "model = RandomForestClassifier(n_estimators = 51, max_depth=11, class_weight='balanced', random_state=12345)\n",
    "model.fit(X_train, y_train)\n",
    "predicted_valid = model.predict(X_test)\n",
    "\n",
    "accuracy_valid = accuracy_score(predicted_valid, y_test)\n",
    "print('Accuracy:', accuracy_valid)\n",
    "print('F1_Score:', f1_score(y_test, predicted_valid))"
   ]
  },
  {
   "cell_type": "markdown",
   "metadata": {},
   "source": [
    "Отрисуем ROC Кривую"
   ]
  },
  {
   "cell_type": "code",
   "execution_count": 19,
   "metadata": {},
   "outputs": [
    {
     "data": {
      "image/png": "[encoded data removed]",
      "text/plain": [
       "<Figure size 640x480 with 1 Axes>"
      ]
     },
     "metadata": {},
     "output_type": "display_data"
    },
    {
     "data": {
      "image/png": "[encoded data removed]",
      "text/plain": [
       "<Figure size 640x480 with 1 Axes>"
      ]
     },
     "metadata": {},
     "output_type": "display_data"
    }
   ],
   "source": [
    "probabilities_valid = model.predict_proba(X_valid)\n",
    "probabilities_one_valid = probabilities_valid[:, 1]\n",
    "\n",
    "fpr, tpr, thresholds = roc_curve(y_valid, probabilities_one_valid) \n",
    "plt.figure()\n",
    "plt.plot(fpr, tpr)\n",
    "plt.xlim([0.0, 1.0])\n",
    "plt.ylim([0.0, 1.0])\n",
    "plt.xlabel('False Positive Rate')\n",
    "plt.ylabel('True Positive Rate')\n",
    "plt.title('ROC-кривая')\n",
    "plt.show() \n",
    "\n",
    "plt.plot([0, 1], [0, 1], linestyle='--')\n",
    "\n",
    "plt.show()"
   ]
  },
  {
   "cell_type": "code",
   "execution_count": 20,
   "metadata": {},
   "outputs": [
    {
     "name": "stdout",
     "output_type": "stream",
     "text": [
      "ROC AUC SCORE is: 0.8557694758129194\n"
     ]
    }
   ],
   "source": [
    "auc_roc = roc_auc_score(y_valid, probabilities_one_valid)\n",
    "print(f'ROC AUC SCORE is: {auc_roc}')"
   ]
  },
  {
   "cell_type": "markdown",
   "metadata": {},
   "source": [
    "Попробуем еще одну модель sklearn.linear_model.RidgeClassifier"
   ]
  },
  {
   "cell_type": "code",
   "execution_count": 22,
   "metadata": {},
   "outputs": [
    {
     "name": "stdout",
     "output_type": "stream",
     "text": [
      "Accuracy: 0.804\n",
      "F1_Score: 0.22222222222222224\n"
     ]
    }
   ],
   "source": [
    "model = RidgeClassifier(random_state=12345)\n",
    "model.fit(X_train, y_train)\n",
    "predicted_valid = model.predict(X_test)\n",
    "\n",
    "accuracy_valid = accuracy_score(predicted_valid, y_test)\n",
    "print('Accuracy:', accuracy_valid)\n",
    "print('F1_Score:', f1_score(y_test, predicted_valid))"
   ]
  },
  {
   "cell_type": "code",
   "execution_count": null,
   "metadata": {},
   "outputs": [],
   "source": []
  },
  {
   "cell_type": "code",
   "execution_count": null,
   "metadata": {},
   "outputs": [],
   "source": []
  },
  {
   "cell_type": "code",
   "execution_count": null,
   "metadata": {},
   "outputs": [],
   "source": []
  },
  {
   "cell_type": "markdown",
   "metadata": {},
   "source": [
    "Выводы:"
   ]
  },
  {
   "cell_type": "markdown",
   "metadata": {},
   "source": [
    "1)Подготовили датасет для прогнозирования оттока клиентов\n"
   ]
  },
  {
   "cell_type": "markdown",
   "metadata": {},
   "source": [
    "2)Использовали RandomForestClassifier и LogisticRegression, выбрали RandomForestClassifier для дальнейшей работы.\n"
   ]
  },
  {
   "cell_type": "markdown",
   "metadata": {},
   "source": [
    "3)Для увеличения f1_score, мы попробовали увеличить и уменьшить выборки, получили это f1_score : 0.56. \n"
   ]
  },
  {
   "cell_type": "markdown",
   "metadata": {},
   "source": [
    "4)Применив метод подбора гиперпараметров через цикл мы нашли наилучшие параметры для Случайного Леса и получили F1_score : 0.62\n"
   ]
  },
  {
   "cell_type": "markdown",
   "metadata": {},
   "source": [
    "5)Отрисовали ROC кривую и получили roc auc score : 85, что значительно выше случайного порога в 0.5. Наша модель предсказывает достаточно хорошо."
   ]
  }
 ],
 "metadata": {
  "ExecuteTimeLog": [
   {
    "duration": 1256,
    "start_time": "2023-05-27T08:44:40.878Z"
   },
   {
    "duration": 220,
    "start_time": "2023-05-27T08:44:42.139Z"
   },
   {
    "duration": 46,
    "start_time": "2023-05-27T08:44:52.061Z"
   },
   {
    "duration": 8,
    "start_time": "2023-05-27T08:46:23.030Z"
   },
   {
    "duration": 5,
    "start_time": "2023-05-27T08:46:59.034Z"
   },
   {
    "duration": 18,
    "start_time": "2023-05-27T08:46:59.833Z"
   },
   {
    "duration": 6,
    "start_time": "2023-05-27T08:47:24.152Z"
   },
   {
    "duration": 202,
    "start_time": "2023-05-27T08:47:52.614Z"
   },
   {
    "duration": 5,
    "start_time": "2023-05-27T08:49:12.751Z"
   },
   {
    "duration": 52,
    "start_time": "2023-05-27T08:49:13.178Z"
   },
   {
    "duration": 6,
    "start_time": "2023-05-27T08:49:13.683Z"
   },
   {
    "duration": 10,
    "start_time": "2023-05-27T08:49:14.598Z"
   },
   {
    "duration": 4,
    "start_time": "2023-05-27T08:49:15.181Z"
   },
   {
    "duration": 12,
    "start_time": "2023-05-27T08:49:16.088Z"
   },
   {
    "duration": 5,
    "start_time": "2023-05-27T08:49:18.478Z"
   },
   {
    "duration": 13,
    "start_time": "2023-05-27T08:49:20.457Z"
   },
   {
    "duration": 1794,
    "start_time": "2023-05-29T08:34:59.813Z"
   },
   {
    "duration": 0,
    "start_time": "2023-05-29T08:35:01.609Z"
   },
   {
    "duration": 5,
    "start_time": "2023-05-29T08:35:16.149Z"
   },
   {
    "duration": 192,
    "start_time": "2023-05-29T08:35:18.549Z"
   },
   {
    "duration": 5,
    "start_time": "2023-05-29T08:35:20.175Z"
   },
   {
    "duration": 14,
    "start_time": "2023-05-29T08:35:21.338Z"
   },
   {
    "duration": 3,
    "start_time": "2023-05-29T08:35:22.512Z"
   },
   {
    "duration": 18,
    "start_time": "2023-05-29T08:35:23.428Z"
   },
   {
    "duration": 8,
    "start_time": "2023-05-29T08:35:24.916Z"
   },
   {
    "duration": 18,
    "start_time": "2023-05-29T08:35:29.027Z"
   },
   {
    "duration": 24,
    "start_time": "2023-05-29T08:35:32.511Z"
   },
   {
    "duration": 13,
    "start_time": "2023-05-29T08:35:38.445Z"
   },
   {
    "duration": 833,
    "start_time": "2023-05-29T08:37:47.290Z"
   },
   {
    "duration": 45,
    "start_time": "2023-05-29T08:38:02.622Z"
   },
   {
    "duration": 2967,
    "start_time": "2023-05-29T08:38:56.940Z"
   },
   {
    "duration": 2966,
    "start_time": "2023-05-29T08:39:31.683Z"
   },
   {
    "duration": 10772,
    "start_time": "2023-05-29T08:40:00.422Z"
   },
   {
    "duration": 3777,
    "start_time": "2023-05-29T08:40:13.118Z"
   },
   {
    "duration": 347,
    "start_time": "2023-05-29T08:40:38.017Z"
   },
   {
    "duration": 42,
    "start_time": "2023-05-29T08:40:40.211Z"
   },
   {
    "duration": 12,
    "start_time": "2023-05-29T08:46:09.203Z"
   },
   {
    "duration": 38,
    "start_time": "2023-05-29T08:48:23.794Z"
   },
   {
    "duration": 298,
    "start_time": "2023-05-29T08:48:36.723Z"
   },
   {
    "duration": 15,
    "start_time": "2023-05-29T08:49:23.191Z"
   },
   {
    "duration": 9,
    "start_time": "2023-05-29T08:49:31.127Z"
   },
   {
    "duration": 8,
    "start_time": "2023-05-29T08:50:34.899Z"
   },
   {
    "duration": 362,
    "start_time": "2023-05-29T08:51:33.016Z"
   },
   {
    "duration": 401,
    "start_time": "2023-05-29T08:51:37.779Z"
   },
   {
    "duration": 8,
    "start_time": "2023-05-29T08:51:41.282Z"
   },
   {
    "duration": 75,
    "start_time": "2023-05-29T08:56:36.797Z"
   },
   {
    "duration": 2613,
    "start_time": "2023-05-29T09:00:08.987Z"
   },
   {
    "duration": 5,
    "start_time": "2023-05-29T09:01:01.509Z"
   },
   {
    "duration": 49,
    "start_time": "2023-05-29T09:01:02.998Z"
   },
   {
    "duration": 5,
    "start_time": "2023-05-29T09:01:06.427Z"
   },
   {
    "duration": 12,
    "start_time": "2023-05-29T09:01:06.921Z"
   },
   {
    "duration": 4,
    "start_time": "2023-05-29T09:01:07.574Z"
   },
   {
    "duration": 12,
    "start_time": "2023-05-29T09:01:08.108Z"
   },
   {
    "duration": 8,
    "start_time": "2023-05-29T09:01:08.936Z"
   },
   {
    "duration": 12,
    "start_time": "2023-05-29T09:01:10.041Z"
   },
   {
    "duration": 22,
    "start_time": "2023-05-29T09:01:11.051Z"
   },
   {
    "duration": 12,
    "start_time": "2023-05-29T09:01:12.083Z"
   },
   {
    "duration": 13,
    "start_time": "2023-05-29T09:01:38.626Z"
   },
   {
    "duration": 66,
    "start_time": "2023-05-29T09:03:52.102Z"
   },
   {
    "duration": 781,
    "start_time": "2023-05-29T09:03:58.852Z"
   },
   {
    "duration": 114,
    "start_time": "2023-05-29T09:04:03.452Z"
   },
   {
    "duration": 2487,
    "start_time": "2023-05-29T09:07:14.819Z"
   },
   {
    "duration": 9848,
    "start_time": "2023-05-29T09:09:13.479Z"
   },
   {
    "duration": 3491,
    "start_time": "2023-05-29T09:09:23.330Z"
   },
   {
    "duration": 340,
    "start_time": "2023-05-29T09:09:46.755Z"
   },
   {
    "duration": 281,
    "start_time": "2023-05-29T09:09:48.111Z"
   },
   {
    "duration": 7,
    "start_time": "2023-05-29T09:09:49.851Z"
   },
   {
    "duration": 5,
    "start_time": "2023-05-29T09:11:06.900Z"
   },
   {
    "duration": 63,
    "start_time": "2023-05-29T09:11:08.820Z"
   },
   {
    "duration": 5,
    "start_time": "2023-05-29T09:11:09.123Z"
   },
   {
    "duration": 12,
    "start_time": "2023-05-29T09:11:09.357Z"
   },
   {
    "duration": 4,
    "start_time": "2023-05-29T09:11:09.519Z"
   },
   {
    "duration": 14,
    "start_time": "2023-05-29T09:11:09.699Z"
   },
   {
    "duration": 5,
    "start_time": "2023-05-29T09:11:09.879Z"
   },
   {
    "duration": 13,
    "start_time": "2023-05-29T09:11:10.253Z"
   },
   {
    "duration": 18,
    "start_time": "2023-05-29T09:11:10.617Z"
   },
   {
    "duration": 16,
    "start_time": "2023-05-29T09:11:10.999Z"
   },
   {
    "duration": 724,
    "start_time": "2023-05-29T09:11:12.810Z"
   },
   {
    "duration": 123,
    "start_time": "2023-05-29T09:11:13.536Z"
   },
   {
    "duration": 2448,
    "start_time": "2023-05-29T09:11:14.215Z"
   },
   {
    "duration": 11501,
    "start_time": "2023-05-29T09:11:16.666Z"
   },
   {
    "duration": 3434,
    "start_time": "2023-05-29T09:11:28.169Z"
   },
   {
    "duration": 355,
    "start_time": "2023-05-29T09:11:31.605Z"
   },
   {
    "duration": 252,
    "start_time": "2023-05-29T09:11:31.961Z"
   },
   {
    "duration": 6,
    "start_time": "2023-05-29T09:11:32.215Z"
   },
   {
    "duration": 348,
    "start_time": "2023-05-29T09:11:53.145Z"
   },
   {
    "duration": 264,
    "start_time": "2023-05-29T09:11:54.753Z"
   },
   {
    "duration": 6,
    "start_time": "2023-05-29T09:11:55.601Z"
   },
   {
    "duration": 55,
    "start_time": "2023-05-29T17:01:33.356Z"
   },
   {
    "duration": 1559,
    "start_time": "2023-05-29T17:01:41.119Z"
   },
   {
    "duration": 371,
    "start_time": "2023-05-29T17:01:42.680Z"
   },
   {
    "duration": 5,
    "start_time": "2023-05-29T17:01:43.391Z"
   },
   {
    "duration": 13,
    "start_time": "2023-05-29T17:01:45.019Z"
   },
   {
    "duration": 3,
    "start_time": "2023-05-29T17:01:45.569Z"
   },
   {
    "duration": 12,
    "start_time": "2023-05-29T17:01:46.696Z"
   },
   {
    "duration": 5,
    "start_time": "2023-05-29T17:01:56.440Z"
   },
   {
    "duration": 12,
    "start_time": "2023-05-29T17:01:57.330Z"
   },
   {
    "duration": 23,
    "start_time": "2023-05-29T17:01:59.264Z"
   },
   {
    "duration": 9,
    "start_time": "2023-05-29T17:02:44.695Z"
   },
   {
    "duration": 8,
    "start_time": "2023-05-29T17:02:45.891Z"
   },
   {
    "duration": 8,
    "start_time": "2023-05-29T17:02:46.522Z"
   },
   {
    "duration": 9,
    "start_time": "2023-05-29T17:05:33.653Z"
   },
   {
    "duration": 25,
    "start_time": "2023-05-29T17:05:35.749Z"
   },
   {
    "duration": 3,
    "start_time": "2023-05-29T17:05:45.450Z"
   },
   {
    "duration": 49,
    "start_time": "2023-05-29T17:05:46.076Z"
   },
   {
    "duration": 4,
    "start_time": "2023-05-29T17:05:46.511Z"
   },
   {
    "duration": 12,
    "start_time": "2023-05-29T17:05:46.926Z"
   },
   {
    "duration": 4,
    "start_time": "2023-05-29T17:05:47.116Z"
   },
   {
    "duration": 11,
    "start_time": "2023-05-29T17:05:47.550Z"
   },
   {
    "duration": 5,
    "start_time": "2023-05-29T17:05:48.034Z"
   },
   {
    "duration": 10,
    "start_time": "2023-05-29T17:05:48.525Z"
   },
   {
    "duration": 10,
    "start_time": "2023-05-29T17:05:49.639Z"
   },
   {
    "duration": 13,
    "start_time": "2023-05-29T17:05:49.875Z"
   },
   {
    "duration": 10,
    "start_time": "2023-05-29T17:05:50.089Z"
   },
   {
    "duration": 34,
    "start_time": "2023-05-29T17:05:51.056Z"
   },
   {
    "duration": 705,
    "start_time": "2023-05-29T17:05:54.584Z"
   },
   {
    "duration": 90,
    "start_time": "2023-05-29T17:05:57.391Z"
   },
   {
    "duration": 2449,
    "start_time": "2023-05-29T17:06:01.355Z"
   },
   {
    "duration": 2599,
    "start_time": "2023-05-29T17:06:18.638Z"
   },
   {
    "duration": 9572,
    "start_time": "2023-05-29T17:06:21.239Z"
   },
   {
    "duration": 3438,
    "start_time": "2023-05-29T17:06:30.814Z"
   },
   {
    "duration": 24,
    "start_time": "2023-05-29T17:08:48.887Z"
   },
   {
    "duration": 712,
    "start_time": "2023-05-29T17:08:50.707Z"
   },
   {
    "duration": 158,
    "start_time": "2023-05-29T17:08:51.420Z"
   },
   {
    "duration": 2315,
    "start_time": "2023-05-29T17:09:00.227Z"
   },
   {
    "duration": 8921,
    "start_time": "2023-05-29T17:09:03.587Z"
   },
   {
    "duration": 3315,
    "start_time": "2023-05-29T17:09:12.510Z"
   },
   {
    "duration": 300,
    "start_time": "2023-05-29T17:09:18.926Z"
   },
   {
    "duration": 274,
    "start_time": "2023-05-29T17:09:21.470Z"
   },
   {
    "duration": 5,
    "start_time": "2023-05-29T17:09:22.490Z"
   }
  ],
  "kernelspec": {
   "display_name": "Python 3 (ipykernel)",
   "language": "python",
   "name": "python3"
  },
  "language_info": {
   "codemirror_mode": {
    "name": "ipython",
    "version": 3
   },
   "file_extension": ".py",
   "mimetype": "text/x-python",
   "name": "python",
   "nbconvert_exporter": "python",
   "pygments_lexer": "ipython3",
   "version": "3.10.9"
  },
  "toc": {
   "base_numbering": 1,
   "nav_menu": {},
   "number_sections": true,
   "sideBar": true,
   "skip_h1_title": true,
   "title_cell": "Содержание",
   "title_sidebar": "Contents",
   "toc_cell": true,
   "toc_position": {
    "height": "calc(100% - 180px)",
    "left": "10px",
    "top": "150px",
    "width": "165px"
   },
   "toc_section_display": true,
   "toc_window_display": true
  }
 },
 "nbformat": 4,
 "nbformat_minor": 2
}
